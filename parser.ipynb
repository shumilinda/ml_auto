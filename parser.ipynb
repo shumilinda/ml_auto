{
  "cells": [
    {
      "cell_type": "markdown",
      "metadata": {},
      "source": [
        "*Подключаем библиотеки*"
      ]
    },
    {
      "cell_type": "code",
      "execution_count": 113,
      "metadata": {
        "id": "P7KFjveZcjpU"
      },
      "outputs": [],
      "source": [
        "import csv\n",
        "import json\n",
        "import os\n",
        "\n",
        "import numpy as np\n",
        "import requests\n",
        "from fake_useragent import UserAgent\n",
        "from lxml import html\n",
        "from tqdm import tqdm"
      ]
    },
    {
      "cell_type": "markdown",
      "metadata": {},
      "source": [
        "*Задаём города*"
      ]
    },
    {
      "cell_type": "code",
      "execution_count": 114,
      "metadata": {
        "id": "_XNRoqZgcxYI"
      },
      "outputs": [],
      "source": [
        "CITIES = [\"kazan\"]"
      ]
    },
    {
      "cell_type": "markdown",
      "metadata": {},
      "source": [
        "*Получаем ссылку*"
      ]
    },
    {
      "cell_type": "code",
      "execution_count": 115,
      "metadata": {
        "id": "y3de67yvcaZl"
      },
      "outputs": [],
      "source": [
        "def get_url(city, page):\n",
        "    return f\"https://auto.ru/{city}/cars/used/?page={page}\""
      ]
    },
    {
      "cell_type": "markdown",
      "metadata": {},
      "source": [
        "*Получаем html*"
      ]
    },
    {
      "cell_type": "code",
      "execution_count": 116,
      "metadata": {
        "id": "msExVAAVdaKD"
      },
      "outputs": [],
      "source": [
        "def get_html(url, header, cookies):\n",
        "    r = requests.get(url, headers=header, cookies=cookies)\n",
        "    r.encoding = \"utf-8\"\n",
        "\n",
        "    return r.text"
      ]
    },
    {
      "cell_type": "markdown",
      "metadata": {},
      "source": [
        "*Получаем количество страниц для контретного города*"
      ]
    },
    {
      "cell_type": "code",
      "execution_count": 117,
      "metadata": {
        "id": "C-uCulNvdaiK"
      },
      "outputs": [],
      "source": [
        "def get_number_page(html_content):\n",
        "    tree = html.fromstring(html_content)\n",
        "    page = tree.xpath(\"//span[@class='ControlGroup ControlGroup_responsive_no ControlGroup_size_s ListingPagination__pages']//a[last()]\")\n",
        "\n",
        "    return int(page[0].text_content())"
      ]
    },
    {
      "cell_type": "markdown",
      "metadata": {},
      "source": [
        "*Получаем ссылки на машины*"
      ]
    },
    {
      "cell_type": "code",
      "execution_count": 118,
      "metadata": {
        "id": "URWYm72afuRy"
      },
      "outputs": [],
      "source": [
        "def get_links(html_content):\n",
        "    tree = html.fromstring(html_content)\n",
        "    items = tree.xpath(\"//div[contains(@class, 'ListingItem')]\")\n",
        "\n",
        "    result = set()\n",
        "    for item in items:\n",
        "        links = item.xpath(\"//a[contains(@class, 'Link OfferThumb')]/@href\")\n",
        "        if (isinstance(links, list)):\n",
        "            for i in links:\n",
        "                result.add(i)\n",
        "        else:\n",
        "            result.add(links)\n",
        "\n",
        "    return result"
      ]
    },
    {
      "cell_type": "markdown",
      "metadata": {},
      "source": [
        "*Получаем данные об автомобиле с главной страницы*"
      ]
    },
    {
      "cell_type": "code",
      "execution_count": 119,
      "metadata": {
        "id": "Nwa8LJptgIjw"
      },
      "outputs": [],
      "source": [
        "def get_link_tex_info(html_content):\n",
        "    tree = html.fromstring(html_content)\n",
        "    link = tree.xpath(\"//div[text()='Поколение']//..//a[@class='Link']/@href\")\n",
        "\n",
        "    if (len(link) != 0):\n",
        "        return link[0]\n",
        "\n",
        "    return -1"
      ]
    },
    {
      "cell_type": "markdown",
      "metadata": {},
      "source": [
        "*Получаем данные об автомобиле с вспомогательной страницы*"
      ]
    },
    {
      "cell_type": "code",
      "execution_count": 120,
      "metadata": {
        "id": "4duNxd5LotS0"
      },
      "outputs": [],
      "source": [
        "def get_tex_info_extra(html_content):\n",
        "    tree = html.fromstring(html_content)\n",
        "    name_header = tree.xpath(\"//span[contains(@class, 'ModificationHeader__optionName')]\")\n",
        "    name_info = tree.xpath(\"//span[contains(@class, 'ModificationInfo__optionName')]\")\n",
        "    value_header = tree.xpath(\"//span[contains(@class, 'ModificationHeader__optionValue')]\")\n",
        "    value_info = tree.xpath(\"//span[contains(@class, 'ModificationInfo__optionValue')]\")\n",
        "\n",
        "    model = tree.xpath(\"//div[contains(@class, 'CatalogInStockOfferBaseItem__title')]/text()\")\n",
        "\n",
        "    return name_header + name_info, value_header + value_info, model[0] if (isinstance(model, list) and (len(model) != 0)) else model"
      ]
    },
    {
      "cell_type": "code",
      "execution_count": 121,
      "metadata": {
        "id": "_HK5UxN4pxn4"
      },
      "outputs": [],
      "source": [
        "def get_tex_info(html_content):\n",
        "    tree = html.fromstring(html_content)\n",
        "    try:\n",
        "        price = tree.xpath(\"//span[@class='OfferPriceCaption__price']//text()\")[0]\n",
        "    except IndexError:\n",
        "        price = np.nan\n",
        "    data = tree.xpath(\"//div[@class='CardInfoRow__cell']//a/text() | //div[@class='CardInfoRow__cell']/text() | //div[@class='CardInfoRow__cell']//span/text()\")\n",
        "\n",
        "    return price, data"
      ]
    },
    {
      "cell_type": "markdown",
      "metadata": {},
      "source": [
        "*Подгружаем cookie*"
      ]
    },
    {
      "cell_type": "code",
      "execution_count": 122,
      "metadata": {
        "id": "1t1eRZfprw-h"
      },
      "outputs": [],
      "source": [
        "with open(os.path.join(\"cookie\", \"1.json\"), 'r', encoding=\"utf-8\") as file:\n",
        "    cookies_list = json.load(file)\n",
        "\n",
        "cookie = {cookie[\"name\"]: cookie[\"value\"] for cookie in cookies_list}"
      ]
    },
    {
      "cell_type": "markdown",
      "metadata": {},
      "source": [
        "*Задаём характеристики, которые будем получать*"
      ]
    },
    {
      "cell_type": "code",
      "execution_count": 123,
      "metadata": {},
      "outputs": [],
      "source": [
        "\n",
        "names = [\"Год выпуска\", \"Пробег\", \"Налог\", \"Руль\", \"Состояние\", \"Владельцы\"]\n",
        "names_extra = [\"Объем\", \"Мощность\", \"Коробка\", \"Тип двигателя\", \"Топливо\", \"Привод\", \"Разгон\", \"Расход\", \n",
        "               \"Страна марки\", \"Класс автомобиля\", \"Количество мест\", \"Длина\", \"Ширина\", \"Высота\", \"Колёсная база\", \n",
        "               \"Клиренс\", \"Размер колёс\", \"Объём топливного бака\", \"Полная масса\", \"Количество передач\", \"Максимальная скорость\", \n",
        "               \"Расход топлива, город/трасса/смешанный\", \"Экологический класс\", \"Выбросы CO2\", \"Объем двигателя\", \n",
        "               \"Тип наддува\", \"Количество цилиндров\", \"Число клапанов на цилиндр\", \"Степень сжатия\", \"Модель двигателя\", \"ГРМ\"]\n"
      ]
    },
    {
      "cell_type": "markdown",
      "metadata": {},
      "source": [
        "*Создаём файл*"
      ]
    },
    {
      "cell_type": "code",
      "execution_count": 124,
      "metadata": {
        "id": "m1Ugn5Q8LeDm"
      },
      "outputs": [],
      "source": [
        "fieldnames = [\"price\", \"year\", \"mileage\", \"tax\", \"steering\", \"condition\", \"owners\", \"model\", \"volume\",\n",
        "              \"power\", \"transmission\", \"engine\", \"fuel\", \"drive\", \"acceleration\", \"consumption\", \"country\",\n",
        "              \"class\", \"number seats\", \"length\", \"width\", \"height\", \"wheelbase\", \"clearance\",\n",
        "              \"wheel size\", \"fuel capacity\", \"weight\", \"gears\", \"maximum speed\", \"fuel consumption city/highway/combined\",\n",
        "              \"ecological\", \"co2\", \"engine capacity\", \"boost type\", \"cylinders\", \"cylinder\", \"compression\", \"engine model\", \"timing\"]\n",
        "\n",
        "with open(\"data/cars.csv\", \"a\", newline=\"\", encoding=\"utf-8\") as file:\n",
        "    writer = csv.writer(file, delimiter=\",\")\n",
        "    writer.writerow(fieldnames)"
      ]
    },
    {
      "cell_type": "markdown",
      "metadata": {},
      "source": [
        "*Задаём header и начинаем сбор данных*"
      ]
    },
    {
      "cell_type": "code",
      "execution_count": 125,
      "metadata": {},
      "outputs": [],
      "source": [
        "user = UserAgent()"
      ]
    },
    {
      "cell_type": "code",
      "execution_count": 126,
      "metadata": {},
      "outputs": [
        {
          "name": "stdout",
          "output_type": "stream",
          "text": [
            "KAZAN\n"
          ]
        },
        {
          "name": "stderr",
          "output_type": "stream",
          "text": [
            "100%|██████████| 99/99 [2:02:49<00:00, 74.44s/it]  \n"
          ]
        }
      ],
      "source": [
        "for city in CITIES:\n",
        "    print(city.upper())\n",
        "    header = {\"user-agent\": user.random}\n",
        "    max_page = get_number_page(get_html(get_url(city, 1), header, cookie))\n",
        "    \n",
        "    for page in tqdm(range(1, max_page + 1)):\n",
        "        links = get_links(get_html(get_url(city, page), header, cookie))\n",
        "        \n",
        "        for link in links:\n",
        "            link_tex = get_link_tex_info(get_html(link, header, cookie))\n",
        "            if link_tex == -1:\n",
        "                continue\n",
        "            \n",
        "            price, info_tex = get_tex_info(get_html(link, header, cookie))\n",
        "            array = [price]\n",
        "            \n",
        "            name_value_map = {info_tex[i]: info_tex[i + 1] for i in range(0, len(info_tex), 2) if info_tex[i] in names}\n",
        "            array.extend(name_value_map.get(name, np.nan) for name in names)\n",
        "            \n",
        "            name, value, model = get_tex_info_extra(get_html(link_tex, header, cookie))\n",
        "            array.append(model.split(' ')[0] if model else np.nan)\n",
        "            \n",
        "            name_value_extra_map = {n.text: v.text for n, v in zip(name, value)}\n",
        "            array.extend(name_value_extra_map.get(extra, np.nan) for extra in names_extra)\n",
        "            \n",
        "            with open(\"data/cars.csv\", \"a\", newline=\"\", encoding=\"utf-8\") as file:\n",
        "                csv.writer(file, delimiter=\",\").writerow(array)"
      ]
    },
    {
      "cell_type": "code",
      "execution_count": null,
      "metadata": {},
      "outputs": [],
      "source": []
    }
  ],
  "metadata": {
    "colab": {
      "provenance": []
    },
    "kernelspec": {
      "display_name": "usr",
      "language": "python",
      "name": "python3"
    },
    "language_info": {
      "codemirror_mode": {
        "name": "ipython",
        "version": 3
      },
      "file_extension": ".py",
      "mimetype": "text/x-python",
      "name": "python",
      "nbconvert_exporter": "python",
      "pygments_lexer": "ipython3",
      "version": "3.13.1"
    }
  },
  "nbformat": 4,
  "nbformat_minor": 0
}
